{
 "cells": [
  {
   "cell_type": "markdown",
   "metadata": {},
   "source": [
    "# ДЗ3 Оцениваемое"
   ]
  },
  {
   "cell_type": "markdown",
   "metadata": {},
   "source": [
    "## Задание 1"
   ]
  },
  {
   "cell_type": "markdown",
   "metadata": {},
   "source": [
    "Скачайте текст \"Литературных анекдотов\". Напишите функцию, которая будет читать файл, лемматизировать текст с помощью pymystem3 и записывать результат в новый файл. У функции должно бы два аргумента: путь к исходному файлу и путь к файлу с лемматизированным текстом. Вызов функции тоже должен быть прописан в решении."
   ]
  },
  {
   "cell_type": "code",
   "execution_count": 44,
   "metadata": {
    "collapsed": true
   },
   "outputs": [],
   "source": [
    "from pymystem3 import Mystem \n",
    "m = Mystem()"
   ]
  },
  {
   "cell_type": "code",
   "execution_count": null,
   "metadata": {},
   "outputs": [],
   "source": [
    "with open('literary_anecdotes.txt', 'r', encoding='utf-8') as f:\n",
    "    text = f.read()\n",
    "\n",
    "dirtylemmas = m.lemmatize(text)\n",
    "\n",
    "with open('literary_anecdotes_lemmas.txt', 'w', encoding='utf-8') as f:\n",
    "    f.write(''.join(dirtylemmas))"
   ]
  },
  {
   "cell_type": "markdown",
   "metadata": {},
   "source": [
    "## Задание 2"
   ]
  },
  {
   "cell_type": "markdown",
   "metadata": {},
   "source": [
    "Очистите лемматизированный текст от стоп-слов и посчитайте ipm для оставшихся. Выведите 20 самых частотных по этому параметру слов."
   ]
  },
  {
   "cell_type": "code",
   "execution_count": 34,
   "metadata": {},
   "outputs": [
    {
     "name": "stdout",
     "output_type": "stream",
     "text": [
      "[('пушкин', 10896.309314586995), ('однажды', 9841.82776801406), ('гоголь', 9490.333919156416), ('лев', 8787.346221441125), ('толстой', 8084.358523725835), ('любить', 6678.383128295255), ('быть', 4920.91388400703), ('царствие', 4569.420035149385), ('тверской', 4217.92618629174), ('приходить', 3866.4323374340947), ('федор', 3866.4323374340947), ('достоевский,', 3866.4323374340947), ('пушкин,', 3514.93848857645), ('тургенев', 3514.93848857645), ('только', 3163.444639718805), ('переодеваться', 3163.444639718805), ('идти', 3163.444639718805), ('михайлович', 3163.444639718805), ('окно', 2811.95079086116), ('потом', 2811.95079086116)]\n"
     ]
    }
   ],
   "source": [
    "from collections import Counter\n",
    "from string import punctuation\n",
    "\n",
    "with open('literary_anecdotes_lemmas.txt', 'r', encoding='utf-8') as f:\n",
    "    textlemmas = f.read()\n",
    "    \n",
    "dirtylemmas = textlemmas.split()\n",
    "\n",
    "lemmas = []\n",
    "for lemma in dirtylemmas:\n",
    "    if not (' ' in lemma or '\\n' in lemma or lemma in punctuation): \n",
    "        lemmas.append(lemma)\n",
    "\n",
    "with open('literary_anecdotes_purelemmas.txt', 'w', encoding='utf-8') as f:\n",
    "    f.write(' '.join(lemmas))\n",
    "\n",
    "stopwords = ['и','он','в','не','на','а','что','с','у','из','к','тоже','же','этот','это','под','он','он,','так','она','я','по','все','очень','они','за','как','тут']\n",
    "\n",
    "counts = dict()\n",
    "for lemma in lemmas:\n",
    "    if not lemma in stopwords:\n",
    "        if lemma in counts:\n",
    "            counts[lemma] += 1\n",
    "        else:\n",
    "            counts[lemma] = 1\n",
    "\n",
    "for lemma in counts:\n",
    "    counts[lemma] *= 1000000 / len(lemmas)\n",
    "\n",
    "ccounts = Counter(counts)\n",
    "print(ccounts.most_common(20))"
   ]
  },
  {
   "cell_type": "markdown",
   "metadata": {},
   "source": [
    "## Задание 3"
   ]
  },
  {
   "cell_type": "markdown",
   "metadata": {},
   "source": [
    "Сделайте полный морфологический разбор исходного текста. Напишите регулярное выражение, которое будет извлекать из тега только часть речи. Пройдитесь циклом по списку с разборами, который выдал pymystem3, извлекая из каждого разбора форму слова и его часть речи и записывая их в новый словарь (форма -- ключ, часть речи -- значение). Посчитайте абсолютную частоту для всех частей речи, а затем относительнную частоту (абсолютная частота / длина текста в словах)."
   ]
  },
  {
   "cell_type": "code",
   "execution_count": 46,
   "metadata": {},
   "outputs": [
    {
     "name": "stdout",
     "output_type": "stream",
     "text": [
      "Counter({'S': 400, 'V': 314, 'A': 86, 'ADV': 74, 'PR': 27, 'APRO': 22, 'PART': 20, 'ADVPRO': 18, 'SPRO': 16, 'CONJ': 14, 'NUM': 8, 'INTJ': 7, 'ANUM': 1})\n",
      "Counter({'S': 0.140597539543058, 'V': 0.11036906854130053, 'A': 0.03022847100175747, 'ADV': 0.02601054481546573, 'PR': 0.009490333919156414, 'APRO': 0.00773286467486819, 'PART': 0.007029876977152899, 'ADVPRO': 0.00632688927943761, 'SPRO': 0.00562390158172232, 'CONJ': 0.00492091388400703, 'NUM': 0.00281195079086116, 'INTJ': 0.002460456942003515, 'ANUM': 0.000351493848857645})\n"
     ]
    }
   ],
   "source": [
    "import re\n",
    "from collections import Counter\n",
    "\n",
    "with open('literary_anecdotes_purelemmas.txt', 'r', encoding='utf-8') as f:\n",
    "    textpure = f.read()\n",
    "\n",
    "poss = dict()\n",
    "for word in m.analyze(textpure):\n",
    "    try:\n",
    "        poss[word['text']] = re.match('[A-Z]+', word['analysis'][0]['gr']).group(0)\n",
    "    except (KeyError, IndexError) as e:  # тут название ошибок\n",
    "        pass \n",
    "\n",
    "poscounts = Counter(poss.values())\n",
    "                                       \n",
    "print(poscounts)\n",
    "\n",
    "for pos in poscounts:\n",
    "    poscounts[pos] /= len(lemmas)\n",
    "                                       \n",
    "print(poscounts)"
   ]
  }
 ],
 "metadata": {
  "kernelspec": {
   "display_name": "Python 3",
   "language": "python",
   "name": "python3"
  },
  "language_info": {
   "codemirror_mode": {
    "name": "ipython",
    "version": 3
   },
   "file_extension": ".py",
   "mimetype": "text/x-python",
   "name": "python",
   "nbconvert_exporter": "python",
   "pygments_lexer": "ipython3",
   "version": "3.6.3"
  }
 },
 "nbformat": 4,
 "nbformat_minor": 2
}
